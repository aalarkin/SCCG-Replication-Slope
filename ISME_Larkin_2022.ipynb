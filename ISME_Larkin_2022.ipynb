{
 "cells": [
  {
   "cell_type": "markdown",
   "id": "cde05867",
   "metadata": {},
   "source": [
    "# **Single Copy Core Gene Replication Slope Analysis**\n",
    "Author: <br />\n",
    "Alyse Larkin (larkinsa@uci.edu) <br />\n",
    "Assistant Project Scientist <br />\n",
    "Department of Earth System Science <br />\n",
    "University of California, Irvine \n",
    "\n",
    "## Summary\n",
    "This Jupyter notebook provides the R code necessary to reproduce the analysis described in Larkin *et al.* 2022, *ISME J*, \"Basin-scale biogeography of *Prochlorococcus* and SAR11 ecotype replication.\" Specifically, in this notebook we provide: \n",
    "- A function to calculate the terminus of replication using the median circular minimum as first described by Korem *et al.* 2015 \n",
    "- A function to simultaneously fit forward and reverse linear functions to gene coverage patterns such that the slopes of the forward and reverse (i.e., \"right hand\" and \"left hand\") functions are equal \n",
    "- An example application of these functions to a marine dataset using the *Prochlorococcus* ecotype HLI \n",
    "\n",
    "If users wish to apply this code to their own datasets, users should first obtain: \n",
    "- A Sample x Gene matrix containing the coverage values of single cope core genes. We **strongly** recommend that coverage values be based on rarefied reads, such that the same number of reads are used for every sample in the dataset. \n",
    "- A single column matrix containing the start locations for every gene based on a reference genome \n"
   ]
  },
  {
   "cell_type": "markdown",
   "id": "0ece2667",
   "metadata": {},
   "source": [
    "## Functions \n",
    "Three functions are used to calculate replication slopes. The first function determines the terminus of replication using the circular minimum coverage value across all samples provided. The second function fits left hand and right coverage slopes (lhs = \"left hand slope\", rhs = \"right hand slope\") based on coverage values of single copy core genes (SCCGs) as mapped to a reference genome and is used as a starting point for the final function. The third function uses non-linear least squared regression to fit the left hand and right hand linear functions such that the slope of both are the same. "
   ]
  },
  {
   "cell_type": "code",
   "execution_count": null,
   "id": "186c9ba2",
   "metadata": {},
   "outputs": [],
   "source": [
    "### Circular Median Minimum Terminus ### \n",
    "\n",
    "circularMedian_term <- function(genomeMat){\n",
    "\t\n",
    "\tgenomeCov = genomeMat[, colSums(genomeMat) > 0]\n",
    "\t\n",
    "\tPbar = c()\n",
    "\tfor(col in 1:ncol(genomeCov)){\n",
    "\t\trowSubMin <- genomeCov[which(genomeCov[, col] > 0), col]\n",
    "\t\trowNam <- names(rowSubMin[which.min(rowSubMin)])\n",
    "\t\tminRow <- which(rownames(genomeCov) == rowNam)\n",
    "\t\tPbar = c(Pbar, minRow)\n",
    "\t}\n",
    "\t\n",
    "\tg = nrow(genomeCov)\n",
    "\n",
    "\ttmCalc = c()\n",
    "\tfor(t in 1:length(Pbar)){\n",
    "\t\tval = (Pbar - Pbar[t]) %% g\n",
    "\t\ttmval = max(val) - min(val)\n",
    "\t\ttmCalc = c(tmCalc, tmval)\n",
    "\t}\n",
    "\t\n",
    "\ttm = min(tmCalc)\n",
    "\t\n",
    "\tcirMed = (median(c((Pbar - tm) %% g)) + tm) %%  g\n",
    "\t\n",
    "\treturn(round(cirMed))\n",
    "}\n",
    "\n",
    "### Fit Reverse and Forward (i.e. Left Hand and Right Hand ) Slopes ### \n",
    "\n",
    "## Fit Left Hand and Right Hand Linear Fit simultaneously,  different slopes \n",
    "twopartfit <- function(x, y){\n",
    "\tf <- function(Cx.open){\n",
    "\t\tlhs <- function(x) ifelse(x < Cx.open, Cx.open-x, 0)\n",
    "\t\trhs <- function(x) ifelse(x < Cx.open, 0, x-Cx.open)\n",
    "\t\tfit <- lm(y ~ lhs(x) + rhs(x))\n",
    "\t\tc(summary(fit)$r.squared, summary(fit)$coef[1], summary(fit)$coef[2], summary(fit)$coef[3])\n",
    "\t}\n",
    "\t\n",
    "\tr2 <- function(x) -(f(x)[1])\n",
    "\t\n",
    "\tres <- optimize(r2, interval = c(min(x), max(x)))\n",
    "\tresout <- c(res$minimum, f(res$minimum))\n",
    "\t\n",
    "\tbest_Cx <- resout[1]\n",
    "\tcoef1 <- resout[3] #Cy\n",
    "\tcoef2 <- resout[4] \n",
    "\tcoef3 <- resout[5]\n",
    "\t\n",
    "\tleftHandInt <- coef1 + best_Cx*coef2\n",
    "\tleftHandSl <- -coef2\n",
    "\trightHandInt <- coef1 - best_Cx*coef3\n",
    "\trightHandSl <- coef3 \n",
    "\t\n",
    "\tout <- c(leftHandInt, leftHandSl, rightHandInt, rightHandSl)\n",
    "\tprint(out)\n",
    "}\n",
    "\n",
    "\n",
    "## Fit Left Hand and Right Hand Linear Fit simultaneously, same slopes \n",
    "lhrhNLS <- function(x, y, Cx){\n",
    "\tlhs <- function(Cx, A, ya) ifelse(x < Cx, A*(2*Cx - x) + ya, 0)\n",
    "\trhs <- function(Cx, A, ya) ifelse(x < Cx, 0, A*x + ya)\n",
    "\tnlsfit <- nls(y ~ lhs(Cx, A, ya) + rhs(Cx, A, ya),  data = data.frame(x, y),  start = c(A = twopartfit(x, y)[4], ya = twopartfit(x, y)[3])) ## use differing slopes as the starting point \n",
    "\tsumfit <- summary(nlsfit)\n",
    "\tA <- sumfit$coef[1] ## slope\n",
    "\tya <- sumfit$coef[2] ## intercept\n",
    "\tp <- summary(nlsfit)$parameter[1, 4] ## p-value\n",
    "\tpe <- sqrt(mean(summary(nlsfit)$residuals^2))/(max(y) - min(y)) ## Percent Error / Range-Normalized RMSE\n",
    "\tR <- cor(y, predict(nlsfit))^2 ## R^2\n",
    "\tAIC <- AIC(nlsfit) ## AIC value \n",
    "\tout <- c(A, ya, p, pe, R, AIC)\n",
    "\tprint(out)\n",
    "}"
   ]
  },
  {
   "cell_type": "markdown",
   "id": "b9828927",
   "metadata": {},
   "source": [
    "## Example Dataset\n",
    "In our example dataset, we use the coverage values of 1530 single copy core genes (SCCGs) from the *Prochlorococcus* ecotype HLI using the C13.5 Bio-GO-SHIP transect (Larkin *et al.* 2021). SCCGs were identified using the Anvi'o pangenomic pipeline (Eren *et al.* 2015) and thus use \"GC_\", or \"Gene Cluster\", as a naming convention. The gene start locations were determined via the fully sequenced HLI reference genome MED4. "
   ]
  },
  {
   "cell_type": "code",
   "execution_count": null,
   "id": "64ed1bd5",
   "metadata": {},
   "outputs": [],
   "source": [
    "gene_coverages <- read.csv('HLI_GeneCoverages_C13-5.csv', row.names = 1); gene_coverages"
   ]
  },
  {
   "cell_type": "code",
   "execution_count": null,
   "id": "8e5864da",
   "metadata": {},
   "outputs": [],
   "source": [
    "genome_order <- read.csv('HLI_GeneOrder.csv', row.names = 1); genome_order"
   ]
  },
  {
   "cell_type": "markdown",
   "id": "11f65579",
   "metadata": {},
   "source": [
    "In the code below we format the gene coverage matrix such that column order matches the gene start locations in the reference genome "
   ]
  },
  {
   "cell_type": "code",
   "execution_count": null,
   "id": "b4b94e08",
   "metadata": {},
   "outputs": [],
   "source": [
    "## Match gene coverages to their start location in the reference genome \n",
    "gene_start_locations <- as.numeric(genome_order[, 1])\n",
    "\n",
    "genes_ordered_match <- gene_coverages[, match(rownames(genome_order), colnames(gene_coverages))]\n",
    "genes_ordered <- genes_ordered_match[order(rownames(genes_ordered_match)), ]\n",
    "\n",
    "## Check that gene orders are matching\n",
    "all(rownames(genome_order) == colnames(genes_ordered))\n"
   ]
  },
  {
   "cell_type": "markdown",
   "id": "a770411c",
   "metadata": {},
   "source": [
    "## Calculate Terminus \n",
    "In the code below we use all samples in our C13.5 dataset to estimate the minimum coverage location of our reference genome and designate that as the terminus of replication. We then re-order our genes based on the terminus location. \n"
   ]
  },
  {
   "cell_type": "code",
   "execution_count": null,
   "id": "6c3d68d6",
   "metadata": {},
   "outputs": [],
   "source": [
    "## Calculate Terminus \n",
    "terminus <- circularMedian_term(t(genes_ordered))\n",
    "terminus_start <- gene_start_locations[terminus] \n",
    "\n",
    "\n",
    "## Re-order the genes based on the terminus \n",
    "new_start_locations <- c() \n",
    "\n",
    "for(st in 1:length(gene_start_locations)){\n",
    "\tm <- round(max(gene_start_locations)/2) #middle of array\n",
    "\tif(terminus_start < m){\n",
    "\t\td = m - terminus_start #difference between terminus_start and m \n",
    "\t\tt = max(gene_start_locations) - d #threshold \n",
    "\t\tif(gene_start_locations[st] < t){\n",
    "\t\t\tnew_start_locations <- c(new_start_locations, gene_start_locations[st] + d)\n",
    "\t\t} else if(gene_start_locations[st] >= t){\n",
    "\t\t\tnew_start_locations <- c(new_start_locations, gene_start_locations[st] - t)\n",
    "\t\t}\n",
    "\t\t\n",
    "\t} else if(terminus_start > m){\n",
    "\t\tt = terminus_start - m #threshold\n",
    "\t\td = max(gene_start_locations) - t #difference\n",
    "\t\tif(gene_start_locations[st] < t){\n",
    "\t\t\tnew_start_locations <- c(new_start_locations, gene_start_locations[st] + d)\n",
    "\t\t} else if(gene_start_locations[st] >= t){\n",
    "\t\t\tnew_start_locations <- c(new_start_locations, gene_start_locations[st] - t)\n",
    "\t\t}\n",
    "\t\t\n",
    "\t} else {\n",
    "\t\tnew_start_locations <- c(new_start_locations, gene_start_locations[st])\n",
    "\t}\n",
    "}\n",
    "\n"
   ]
  },
  {
   "cell_type": "markdown",
   "id": "ac0bd29d",
   "metadata": {},
   "source": [
    "## Calculate Slopes\n",
    "Now that our genes are ordered starting at the origin of replication, through the terminus, and back to the origin, we can calculate the replication slope using the coverage of all SCCGs across our reference genome. \n",
    "Note that if all coverage values for a particular sample are 0, then the slope is set to 0. \n",
    "If the \"lhrhNLS\" function does not converge to a single solution, then the slope is reported as \"NA.\" "
   ]
  },
  {
   "cell_type": "code",
   "execution_count": null,
   "id": "3d4c452c",
   "metadata": {},
   "outputs": [],
   "source": [
    "## Calculate the slope of coverage,  retain intercepts for plotting purposes  \n",
    "\n",
    "slopes <- c()\n",
    "intercepts <- c()\n",
    "\n",
    "for(s in 1:nrow(genes_ordered)){\n",
    "\ty <- as.numeric(as.character(genes_ordered[s, ]))\n",
    "\n",
    "\tx <- as.numeric(new_start_locations)\n",
    "\t\n",
    "\tCx <- round(max(new_start_locations)/2)\n",
    "\t\n",
    "\tif(sum(genes_ordered[s, ]) == 0){\n",
    "\t\tslopes <- c(slopes, 0)\n",
    "\t\tintercepts <- c(intercepts, 0)\n",
    "\t} else if(class(try(myfit <- lhrhNLS(x, y, Cx))) == \"try-error\") {\n",
    "\t\tslopes <- c(slopes, NA)\n",
    "\t\tintercepts <- c(intercepts, NA)\n",
    "\t} else {\n",
    "\t\tslopes <- c(slopes, myfit[1])\n",
    "\t\tintercepts <- c(intercepts, myfit[2])\n",
    "\t}\n",
    "\t\n",
    "}\n",
    "\n",
    "slopes_matrix <- matrix(slopes, ncol=1, nrow=length(slopes))\n",
    "rownames(slopes_matrix) <- rownames(genes_ordered)\n",
    "\n",
    "intercepts_matrix <- matrix(intercepts, ncol=1, nrow=length(intercepts))\n",
    "rownames(intercepts_matrix) <- rownames(genes_ordered)\n"
   ]
  },
  {
   "cell_type": "markdown",
   "id": "ec92ac2d",
   "metadata": {},
   "source": [
    "## Check Bi-linear Coverage  \n",
    "In the code below we examine the first sample in our dataset to ensure that we observe a bi-linear coverage pattern. "
   ]
  },
  {
   "cell_type": "code",
   "execution_count": null,
   "id": "172c7068",
   "metadata": {},
   "outputs": [],
   "source": [
    "plot(new_start_locations, genes_ordered[1, ], xlab=\"MED4 genome position\", ylab=\"SCCG coverage\", main=toString(rownames(genes_ordered)[1]))\n",
    "abline(intercepts_matrix[1, ], slopes_matrix[1, ], col='red', lwd=1.5) #rhs\n",
    "abline(2*slopes_matrix[1, ]*round(max(new_start_locations)/2) + intercepts_matrix[1, ], -slopes_matrix[1, ], col='red', lwd=1.5) #lhs"
   ]
  },
  {
   "cell_type": "markdown",
   "id": "a7295ec9",
   "metadata": {},
   "source": [
    "## Plot Replication \n",
    "In the code below we normalize our coverage slopes by multiplying the slope by 1/2 the length of our reference genome. This gives us our replication estimate, R<sub>Obs</sub>. We then plot the first fifty R<sub>Obs</sub> to visualize the variability in replication across the beginning of the C13.5 Bio-GO-SHIP transect. "
   ]
  },
  {
   "cell_type": "code",
   "execution_count": null,
   "id": "300c7fba",
   "metadata": {},
   "outputs": [],
   "source": [
    "barplot(slopes_matrix[1:50, ] * (max(new_start_locations)/2), horiz=F, beside=T, names.arg=rownames(slopes_matrix[1:50, ]), las=2, cex.names=0.3, ylab=\"Replication (Robs)\", main=\"Prochlorococcus HLI\")"
   ]
  }
 ],
 "metadata": {
  "kernelspec": {
   "display_name": "R",
   "language": "R",
   "name": "ir"
  },
  "language_info": {
   "codemirror_mode": "r",
   "file_extension": ".r",
   "mimetype": "text/x-r-source",
   "name": "R",
   "pygments_lexer": "r",
   "version": "4.1.3"
  }
 },
 "nbformat": 4,
 "nbformat_minor": 5
}
